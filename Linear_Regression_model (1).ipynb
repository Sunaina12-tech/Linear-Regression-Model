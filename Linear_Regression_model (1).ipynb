{
  "nbformat": 4,
  "nbformat_minor": 0,
  "metadata": {
    "colab": {
      "private_outputs": true,
      "provenance": []
    },
    "kernelspec": {
      "name": "python3",
      "display_name": "Python 3"
    },
    "language_info": {
      "name": "python"
    }
  },
  "cells": [
    {
      "cell_type": "markdown",
      "source": [
        "# **Objective:** Build a simple Linear Regression model to predict a numerical value based on a single feature.\n"
      ],
      "metadata": {
        "id": "KeNS0exL-oy0"
      }
    },
    {
      "cell_type": "markdown",
      "source": [
        "## 1. Install the necessary libraries:"
      ],
      "metadata": {
        "id": "YAinQDJ7Ey42"
      }
    },
    {
      "cell_type": "code",
      "source": [
        "pip install numpy pandas scikit-learn"
      ],
      "metadata": {
        "id": "TVYXU1gzwyof"
      },
      "execution_count": null,
      "outputs": []
    },
    {
      "cell_type": "markdown",
      "source": [
        "## 2. Import the required libraries:"
      ],
      "metadata": {
        "id": "JuiRKSLmEzbH"
      }
    },
    {
      "cell_type": "code",
      "source": [
        "import numpy as np\n",
        "import pandas as pd\n",
        "from sklearn.model_selection import train_test_split\n",
        "from sklearn.linear_model import LinearRegression\n",
        "from sklearn.metrics import mean_squared_error, r2_score\n",
        "import matplotlib.pyplot as plt"
      ],
      "metadata": {
        "id": "nkC-dWTt-0_z"
      },
      "execution_count": null,
      "outputs": []
    },
    {
      "cell_type": "markdown",
      "source": [
        "## 3. Load your dataset into a Pandas DataFrame:"
      ],
      "metadata": {
        "id": "JkY-4n1fEz1-"
      }
    },
    {
      "cell_type": "code",
      "source": [
        "from google.colab import drive\n",
        "drive.mount('/content/drive')"
      ],
      "metadata": {
        "id": "aXTGMi0e-3bE"
      },
      "execution_count": null,
      "outputs": []
    },
    {
      "cell_type": "code",
      "source": [
        "df = pd.read_csv(\"/content/drive/MyDrive/DataSets/Customer Purchasing Behaviors.csv\")\n",
        "df.head()"
      ],
      "metadata": {
        "id": "O66-lRry_kcJ"
      },
      "execution_count": null,
      "outputs": []
    },
    {
      "source": [
        "#from google.colab import sheets\n",
        "#sheet = sheets.InteractiveSheet(df=df)"
      ],
      "cell_type": "code",
      "execution_count": null,
      "outputs": [],
      "metadata": {
        "cellView": "form",
        "id": "1ktKQkG4FtDZ"
      }
    },
    {
      "cell_type": "markdown",
      "source": [
        "## 4. Split the data into features (X) and target variable (y):"
      ],
      "metadata": {
        "id": "DjUxfk42E1WY"
      }
    },
    {
      "cell_type": "code",
      "source": [
        "# Define the feature (Floor_area) and target (Price_in_taka)\n",
        "X = df[['annual_income']]  # Feature\n",
        "y = df['purchase_amount']  # Target\n",
        "\n",
        "# Check the feature and target data\n",
        "print(X.head())\n",
        "print(y.head())\n"
      ],
      "metadata": {
        "id": "A-W890jvCpVo"
      },
      "execution_count": null,
      "outputs": []
    },
    {
      "cell_type": "code",
      "source": [
        "X = df['annual_income'].values.reshape(-1, 1)  # Reshape for single feature input\n",
        "y = df['purchase_amount'].values"
      ],
      "metadata": {
        "id": "wnp2MlfK__Hj"
      },
      "execution_count": null,
      "outputs": []
    },
    {
      "cell_type": "markdown",
      "source": [
        "## 5. Split the data into training and testing sets:"
      ],
      "metadata": {
        "id": "T1iQN405E2rX"
      }
    },
    {
      "cell_type": "code",
      "source": [
        "X_train, X_test, y_train, y_test = train_test_split(X, y, test_size=0.2)"
      ],
      "metadata": {
        "id": "vz9NsY9MBeTi"
      },
      "execution_count": null,
      "outputs": []
    },
    {
      "cell_type": "markdown",
      "source": [
        "## 6. Create an instance of the Linear Regression model and fit it on the training data:"
      ],
      "metadata": {
        "id": "36mtOkfuE3Jo"
      }
    },
    {
      "cell_type": "code",
      "source": [
        "model = LinearRegression()\n",
        "model.fit(X_train, y_train)"
      ],
      "metadata": {
        "id": "HW4Us-hLC45i"
      },
      "execution_count": null,
      "outputs": []
    },
    {
      "cell_type": "markdown",
      "source": [
        "## 7. Make predictions on the test set:"
      ],
      "metadata": {
        "id": "aqQzqpmCE3ox"
      }
    },
    {
      "cell_type": "code",
      "source": [
        "predictions = model.predict(X_test)"
      ],
      "metadata": {
        "id": "mVw-ql_CC9bQ"
      },
      "execution_count": null,
      "outputs": []
    },
    {
      "cell_type": "markdown",
      "source": [
        "## 8. Evaluate the model using metrics like Mean Squared Error and R-squared score:"
      ],
      "metadata": {
        "id": "fakP5SzUE4H2"
      }
    },
    {
      "cell_type": "code",
      "source": [
        "mse = mean_squared_error(y_test,predictions)\n",
        "r2 = r2_score(y_test,predictions)\n",
        "\n",
        "print(f\"Mean Squared Error: {mse}\")\n",
        "print(f\"R-squared Score: {r2}\")"
      ],
      "metadata": {
        "id": "nh7oGn4REERS"
      },
      "execution_count": null,
      "outputs": []
    },
    {
      "cell_type": "markdown",
      "source": [
        "This is just a basic outline to get you started with building a simple Linear Regression model in Python using scikit-learn library."
      ],
      "metadata": {
        "id": "ReNxRgNOIJY3"
      }
    },
    {
      "cell_type": "code",
      "source": [
        "plt.scatter(X,y,color='blue')\n",
        "plt.plot(X,model.predict(X),color='red')\n",
        "plt.title('Linear Regression')\n",
        "plt.xlabel('Feature')\n",
        "plt.ylabel('Target')\n",
        "plt.show()"
      ],
      "metadata": {
        "id": "op0KrOdvEH_n"
      },
      "execution_count": null,
      "outputs": []
    },
    {
      "cell_type": "markdown",
      "source": [
        "### In this script: - We create a small dataset consisting of one feature ('Feature') and one target variable ('Target'). - The dataset is split into features (X) and target variable (y). - The data is split into training and testing sets. - A Linear Regression model is created using scikit-learn's LinearRegression class. - The model is trained on the training data. - Predictions are made on the test set. - Model performance metrics such as Mean Squared Error and R-squared score are calculated"
      ],
      "metadata": {
        "id": "5o1iTIBPPLkC"
      }
    },
    {
      "cell_type": "code",
      "source": [],
      "metadata": {
        "id": "ydMQqUeFO4XE"
      },
      "execution_count": null,
      "outputs": []
    }
  ]
}